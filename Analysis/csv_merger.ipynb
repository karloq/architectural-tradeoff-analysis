{
 "cells": [
  {
   "cell_type": "code",
   "execution_count": 31,
   "metadata": {},
   "outputs": [],
   "source": [
    "import pandas as pd\n",
    "import os\n",
    "\n",
    "path = \"C:/Users/KOQVIST1/architectural-tradeoff-analysis/Simulation data/April10/\"\n",
    "csv_files = [path + f for f in os.listdir(path) if f.endswith('.csv')]\n",
    "\n",
    "# create an empty list to store the DataFrames\n",
    "df_list = []\n",
    "\n",
    "# loop over each csv file and read it into a DataFrame\n",
    "for csv_file in csv_files:\n",
    "    df = pd.read_csv(csv_file)\n",
    "    df_list.append(df)\n",
    "\n",
    "# concatenate all DataFrames in the list\n",
    "concatenated_df = pd.concat(df_list, sort=False)\n",
    "\n",
    "# fill missing values with 0\n",
    "concatenated_df = concatenated_df.fillna(0)\n",
    "\n",
    "cols_to_move = ['latency', 'cost', 'reliability', 'scalability']\n",
    "\n",
    "# get a list of all columns in the DataFrame\n",
    "cols = list(concatenated_df.columns)\n",
    "\n",
    "# remove the columns to move from the original list\n",
    "for col in cols_to_move:\n",
    "    cols.remove(col)\n",
    "\n",
    "# reorder the columns so the ones to move are at the end\n",
    "new_cols = cols + cols_to_move\n",
    "\n",
    "# use loc to select the columns in the new order\n",
    "new_df = concatenated_df.loc[:, new_cols]\n",
    "\n",
    "# export concatenated DataFrame to csv\n",
    "new_df.to_csv(path + \"combined.csv\", index=False)\n"
   ]
  }
 ],
 "metadata": {
  "kernelspec": {
   "display_name": "Python 3",
   "language": "python",
   "name": "python3"
  },
  "language_info": {
   "codemirror_mode": {
    "name": "ipython",
    "version": 3
   },
   "file_extension": ".py",
   "mimetype": "text/x-python",
   "name": "python",
   "nbconvert_exporter": "python",
   "pygments_lexer": "ipython3",
   "version": "3.11.3"
  },
  "orig_nbformat": 4
 },
 "nbformat": 4,
 "nbformat_minor": 2
}
